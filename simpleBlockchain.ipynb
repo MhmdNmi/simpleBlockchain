{
 "metadata": {
  "language_info": {
   "codemirror_mode": {
    "name": "ipython",
    "version": 3
   },
   "file_extension": ".py",
   "mimetype": "text/x-python",
   "name": "python",
   "nbconvert_exporter": "python",
   "pygments_lexer": "ipython3",
   "version": "2.7.17"
  },
  "orig_nbformat": 2,
  "kernelspec": {
   "name": "python2717jvsc74a57bd05c3b02fa24688d32a1d09351b7f8eac82a87272ad081601c73caead00a8e1fc4",
   "display_name": "Python 2.7.17 64-bit"
  },
  "metadata": {
   "interpreter": {
    "hash": "5c3b02fa24688d32a1d09351b7f8eac82a87272ad081601c73caead00a8e1fc4"
   }
  }
 },
 "nbformat": 4,
 "nbformat_minor": 2,
 "cells": [
  {
   "cell_type": "code",
   "execution_count": null,
   "metadata": {},
   "outputs": [],
   "source": [
    "import hashlib\n",
    "import json\n"
   ]
  },
  {
   "cell_type": "code",
   "execution_count": null,
   "metadata": {},
   "outputs": [],
   "source": [
    "with open('GenesisBlock/GenesisBlock.json') as f:\n",
    "  myData = json.dumps(json.load(f), sort_keys = True)\n",
    "\n",
    "prevHash = hashlib.sha256(myData.encode()).hexdigest()\n",
    "\n",
    "print('block number:', 1, '(Genesis Block)')\n",
    "print('block hash:', prevHash)\n",
    "print()"
   ]
  },
  {
   "cell_type": "code",
   "execution_count": null,
   "metadata": {},
   "outputs": [],
   "source": [
    "for i in range(2, 11):\n",
    "    with open('Ledgers/Ledger_Number' + str(i) + '.json') as f:\n",
    "        myLedger = json.dumps(json.load(f), sort_keys = True)\n",
    "    with open('Math_Problems/Math_Problem_Number' + str(i) + '.json') as f:\n",
    "        myAnswer = str(json.load(f)[\"mathProblem\"])\n",
    "    for j in range(1000000):\n",
    "        nonce = str(j)\n",
    "        myData = prevHash + myLedger + nonce\n",
    "        myHash = hashlib.sha256(myData.encode()).hexdigest()\n",
    "        if myHash[-4:] == myAnswer:\n",
    "            print('block number:', i)\n",
    "            print('block hash:', myHash)\n",
    "            print('hash of the previous block:', prevHash)\n",
    "            print('nonce value', nonce)\n",
    "            print()\n",
    "            prevHash = myHash\n",
    "            break"
   ]
  },
  {
   "cell_type": "code",
   "execution_count": null,
   "metadata": {},
   "outputs": [],
   "source": [
    "with open('Ledgers/Ledger_Number11.json') as f:\n",
    "    myLedger = json.dumps(json.load(f), sort_keys = True)\n",
    "with open('Math_Problems/Math_Problem_Number11.json') as f:\n",
    "    myAnswer = str(json.load(f)[\"mathProblem\"])\n",
    "i = 0\n",
    "while(True):\n",
    "    nonce = str(i)\n",
    "    myData = prevHash + myLedger + nonce\n",
    "    myHash = hashlib.sha256(myData.encode())\n",
    "    myHash = myHash.hexdigest()\n",
    "    if myHash[-7:] == myAnswer:\n",
    "        print('block number: 11')\n",
    "        print('block hash:', myHash)\n",
    "        print('hash of the previous block:', prevHash)\n",
    "        print('nonce value:', nonce)\n",
    "        print()\n",
    "        prevHash = myHash\n",
    "        break\n",
    "    i += 1\n",
    "\n",
    "print(\"End of Work!\")"
   ]
  },
  {
   "cell_type": "code",
   "execution_count": null,
   "metadata": {},
   "outputs": [],
   "source": []
  }
 ]
}